{
 "cells": [
  {
   "cell_type": "markdown",
   "metadata": {},
   "source": [
    "## Import of the libraries"
   ]
  },
  {
   "cell_type": "code",
   "execution_count": 1,
   "metadata": {},
   "outputs": [
    {
     "name": "stderr",
     "output_type": "stream",
     "text": [
      "Using TensorFlow backend.\n"
     ]
    }
   ],
   "source": [
    "import numpy as np\n",
    "import pickle\n",
    "from keras.models import Sequential\n",
    "from keras import layers\n",
    "from keras.optimizers import Adam\n",
    "from keras import backend as K\n",
    "import tensorflow as tf\n",
    "from numpy.random import RandomState"
   ]
  },
  {
   "cell_type": "markdown",
   "metadata": {},
   "source": [
    "## Function to perform the forecast once the network is trained"
   ]
  },
  {
   "cell_type": "code",
   "execution_count": null,
   "metadata": {},
   "outputs": [],
   "source": [
    "def forecast_cluster(model, data, min_index, max_index, delay, lookback):\n",
    "    load_forecasted = np.zeros((max_index - (min_index + lookback), 1))\n",
    "    for idx, i in enumerate(range(min_index+lookback, max_index)):\n",
    "        block = data[i-lookback:i].reshape((1, lookback, data.shape[1], data.shape[2], 1))\n",
    "        load_forecasted[idx] = model.predict(block)\n",
    "    return load_forecasted"
   ]
  },
  {
   "cell_type": "markdown",
   "metadata": {},
   "source": [
    "## $\\alpha$-OMC loss function"
   ]
  },
  {
   "cell_type": "code",
   "execution_count": null,
   "metadata": {},
   "outputs": [],
   "source": [
    "def cost_func_more_args(alpha):\n",
    "    def cost_func(y_true, y_pred):\n",
    "        epsilon = 0.1\n",
    "        diff = y_pred - y_true\n",
    "        cost = np.zeros(diff.shape)\n",
    "        y1 = -epsilon * diff + alpha\n",
    "        y2 = -np.true_divide(1, epsilon) * diff + alpha\n",
    "        y3 = np.true_divide(alpha, 1-(epsilon*alpha)) * (diff - (epsilon*alpha)) \n",
    "        cost = tf.where(diff > (epsilon*alpha), y3, cost)\n",
    "        cost = tf.where(diff < 0, y1, cost)\n",
    "        cost = tf.where(tf.logical_and((diff <= (epsilon*alpha)), (diff >= 0)), y2, cost)\n",
    "        cost = K.mean(cost, axis=-1)\n",
    "        return cost\n",
    "    return cost_func"
   ]
  },
  {
   "cell_type": "markdown",
   "metadata": {},
   "source": [
    "## Build DeepCog model"
   ]
  },
  {
   "cell_type": "code",
   "execution_count": 7,
   "metadata": {},
   "outputs": [],
   "source": [
    "def make_nn_model(load_input_shape, lookback, num_cluster):\n",
    "    '''Build DeepCog architecture'''\n",
    "    model = Sequential()\n",
    "    model.add(layers.Conv3D(32, kernel_size=(3,3,3), activation='relu', input_shape=(lookback, load_input_shape[1], load_input_shape[2], 1), padding='same'))\n",
    "    model.add(layers.Conv3D(32, kernel_size=(6,6,6), activation='relu', padding='same'))\n",
    "    model.add(layers.Dropout(0.3))\n",
    "    model.add(layers.Conv3D(16, kernel_size=(6,6,6), activation='relu', padding='same'))\n",
    "    model.add(layers.Dropout(0.3))\n",
    "    model.add(layers.Flatten())\n",
    "    model.add(layers.Dense(64, activation='relu'))\n",
    "    model.add(layers.Dense(32, activation='relu'))\n",
    "    model.add(layers.Dense(num_cluster))\n",
    "    model.compile(optimizer=Adam(0.0005), loss=cost_func(alpha))\n",
    "    return model "
   ]
  },
  {
   "cell_type": "markdown",
   "metadata": {},
   "source": [
    "## Create, training and forecast with DeepCog "
   ]
  },
  {
   "cell_type": "code",
   "execution_count": 8,
   "metadata": {},
   "outputs": [],
   "source": [
    "alpha = 2\n",
    "lookback = 6\n",
    "batch_size = 128\n",
    "num_cluster = 1\n",
    "load_input # numpy matrix of shape (len(dataset), nº row, nº col, channel). In DeepCog channel = 1\n",
    "load_output # numpy matrix of shape (len(dataset), num_cluster, channel). In DeepCog channel = 1\n",
    "nn = make_nn_model(agg_load.shape, lookback, num_cluster)\n",
    "history = nn.fit_generator(train_gen, steps_per_epoch=150, epochs=100, validation_data=val_gen, validation_steps=40, verbose=0)\n",
    "load_forecasted_corr = forecast_cluster(nn, load_input, min_index=start_index_test_dataset, max_index=end_index_test_dataset, delay=delay, lookback=lookback)"
   ]
  }
 ],
 "metadata": {
  "kernelspec": {
   "display_name": "Python 3",
   "language": "python",
   "name": "python3"
  },
  "language_info": {
   "codemirror_mode": {
    "name": "ipython",
    "version": 3
   },
   "file_extension": ".py",
   "mimetype": "text/x-python",
   "name": "python",
   "nbconvert_exporter": "python",
   "pygments_lexer": "ipython3",
   "version": "3.5.6"
  }
 },
 "nbformat": 4,
 "nbformat_minor": 2
}
